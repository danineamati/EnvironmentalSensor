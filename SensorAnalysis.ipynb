{
 "cells": [
  {
   "cell_type": "code",
   "execution_count": 1,
   "metadata": {},
   "outputs": [
    {
     "name": "stdout",
     "output_type": "stream",
     "text": [
      "Dataframe Shape: (430, 8)\n"
     ]
    },
    {
     "data": {
      "text/html": [
       "<div>\n",
       "<style scoped>\n",
       "    .dataframe tbody tr th:only-of-type {\n",
       "        vertical-align: middle;\n",
       "    }\n",
       "\n",
       "    .dataframe tbody tr th {\n",
       "        vertical-align: top;\n",
       "    }\n",
       "\n",
       "    .dataframe thead th {\n",
       "        text-align: right;\n",
       "    }\n",
       "</style>\n",
       "<table border=\"1\" class=\"dataframe\">\n",
       "  <thead>\n",
       "    <tr style=\"text-align: right;\">\n",
       "      <th></th>\n",
       "      <th>SampleNumber</th>\n",
       "      <th>Time(ms)</th>\n",
       "      <th>T(deg C)</th>\n",
       "      <th>T(deg F)</th>\n",
       "      <th>P(Pa)</th>\n",
       "      <th>Alt(m)</th>\n",
       "      <th>Alt(ft)</th>\n",
       "      <th>%RH</th>\n",
       "    </tr>\n",
       "  </thead>\n",
       "  <tbody>\n",
       "    <tr>\n",
       "      <th>0</th>\n",
       "      <td>0</td>\n",
       "      <td>496</td>\n",
       "      <td>22.49</td>\n",
       "      <td>72.482</td>\n",
       "      <td>98926</td>\n",
       "      <td>202.827</td>\n",
       "      <td>665.443</td>\n",
       "      <td>50</td>\n",
       "    </tr>\n",
       "    <tr>\n",
       "      <th>1</th>\n",
       "      <td>1</td>\n",
       "      <td>300533</td>\n",
       "      <td>22.90</td>\n",
       "      <td>73.220</td>\n",
       "      <td>98918</td>\n",
       "      <td>202.359</td>\n",
       "      <td>663.909</td>\n",
       "      <td>49</td>\n",
       "    </tr>\n",
       "    <tr>\n",
       "      <th>2</th>\n",
       "      <td>2</td>\n",
       "      <td>600571</td>\n",
       "      <td>22.97</td>\n",
       "      <td>73.346</td>\n",
       "      <td>98909</td>\n",
       "      <td>203.081</td>\n",
       "      <td>666.275</td>\n",
       "      <td>49</td>\n",
       "    </tr>\n",
       "    <tr>\n",
       "      <th>3</th>\n",
       "      <td>3</td>\n",
       "      <td>900621</td>\n",
       "      <td>23.06</td>\n",
       "      <td>73.508</td>\n",
       "      <td>98921</td>\n",
       "      <td>202.087</td>\n",
       "      <td>663.016</td>\n",
       "      <td>49</td>\n",
       "    </tr>\n",
       "    <tr>\n",
       "      <th>4</th>\n",
       "      <td>4</td>\n",
       "      <td>1200668</td>\n",
       "      <td>23.06</td>\n",
       "      <td>73.508</td>\n",
       "      <td>98914</td>\n",
       "      <td>202.637</td>\n",
       "      <td>664.819</td>\n",
       "      <td>49</td>\n",
       "    </tr>\n",
       "  </tbody>\n",
       "</table>\n",
       "</div>"
      ],
      "text/plain": [
       "   SampleNumber  Time(ms)  T(deg C)  T(deg F)  P(Pa)   Alt(m)  Alt(ft)  %RH\n",
       "0             0       496     22.49    72.482  98926  202.827  665.443   50\n",
       "1             1    300533     22.90    73.220  98918  202.359  663.909   49\n",
       "2             2    600571     22.97    73.346  98909  203.081  666.275   49\n",
       "3             3    900621     23.06    73.508  98921  202.087  663.016   49\n",
       "4             4   1200668     23.06    73.508  98914  202.637  664.819   49"
      ]
     },
     "execution_count": 1,
     "metadata": {},
     "output_type": "execute_result"
    }
   ],
   "source": [
    "% matplotlib inline\n",
    "\n",
    "import pandas as pd\n",
    "import matplotlib.pyplot as plt\n",
    "import numpy as np\n",
    "\n",
    "df = pd.read_csv(\"sensor9.csv\")\n",
    "cols = df.columns\n",
    "print(\"Dataframe Shape:\", df.shape)\n",
    "df.head()"
   ]
  },
  {
   "cell_type": "code",
   "execution_count": 2,
   "metadata": {},
   "outputs": [
    {
     "data": {
      "image/png": "[encoded data removed]",
      "text/plain": [
       "<Figure size 432x288 with 1 Axes>"
      ]
     },
     "metadata": {},
     "output_type": "display_data"
    }
   ],
   "source": [
    "plt.plot(np.array(df[\"Time(ms)\"]) / 3.6e+6, np.array(df[\"T(deg F)\"]))\n",
    "plt.title(\"Temperature in the Room over Time\")\n",
    "plt.xlabel(\"Time (hr)\")\n",
    "plt.ylabel(\"T(deg F)\")\n",
    "plt.show()"
   ]
  },
  {
   "cell_type": "code",
   "execution_count": null,
   "metadata": {},
   "outputs": [],
   "source": []
  }
 ],
 "metadata": {
  "kernelspec": {
   "display_name": "Python 3",
   "language": "python",
   "name": "python3"
  },
  "language_info": {
   "codemirror_mode": {
    "name": "ipython",
    "version": 3
   },
   "file_extension": ".py",
   "mimetype": "text/x-python",
   "name": "python",
   "nbconvert_exporter": "python",
   "pygments_lexer": "ipython3",
   "version": "3.6.4"
  }
 },
 "nbformat": 4,
 "nbformat_minor": 2
}
