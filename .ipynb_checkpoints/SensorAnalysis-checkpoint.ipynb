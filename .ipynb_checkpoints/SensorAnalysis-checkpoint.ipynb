{
 "cells": [
  {
   "cell_type": "code",
   "execution_count": 1,
   "metadata": {},
   "outputs": [
    {
     "name": "stdout",
     "output_type": "stream",
     "text": [
      "Dataframe Shape: (53, 8)\n"
     ]
    },
    {
     "data": {
      "text/html": [
       "<div>\n",
       "<style scoped>\n",
       "    .dataframe tbody tr th:only-of-type {\n",
       "        vertical-align: middle;\n",
       "    }\n",
       "\n",
       "    .dataframe tbody tr th {\n",
       "        vertical-align: top;\n",
       "    }\n",
       "\n",
       "    .dataframe thead th {\n",
       "        text-align: right;\n",
       "    }\n",
       "</style>\n",
       "<table border=\"1\" class=\"dataframe\">\n",
       "  <thead>\n",
       "    <tr style=\"text-align: right;\">\n",
       "      <th></th>\n",
       "      <th>SampleNumber</th>\n",
       "      <th>Time(ms)</th>\n",
       "      <th>T(deg C)</th>\n",
       "      <th>T(deg F)</th>\n",
       "      <th>P(Pa)</th>\n",
       "      <th>Alt(m)</th>\n",
       "      <th>Alt(ft)</th>\n",
       "      <th>%RH</th>\n",
       "    </tr>\n",
       "  </thead>\n",
       "  <tbody>\n",
       "    <tr>\n",
       "      <th>0</th>\n",
       "      <td>0</td>\n",
       "      <td>481</td>\n",
       "      <td>21.28</td>\n",
       "      <td>70.304</td>\n",
       "      <td>98693</td>\n",
       "      <td>221.466</td>\n",
       "      <td>726.595</td>\n",
       "      <td>49</td>\n",
       "    </tr>\n",
       "    <tr>\n",
       "      <th>1</th>\n",
       "      <td>1</td>\n",
       "      <td>300517</td>\n",
       "      <td>21.33</td>\n",
       "      <td>70.394</td>\n",
       "      <td>98687</td>\n",
       "      <td>221.981</td>\n",
       "      <td>728.285</td>\n",
       "      <td>49</td>\n",
       "    </tr>\n",
       "    <tr>\n",
       "      <th>2</th>\n",
       "      <td>2</td>\n",
       "      <td>600554</td>\n",
       "      <td>21.58</td>\n",
       "      <td>70.844</td>\n",
       "      <td>98703</td>\n",
       "      <td>220.576</td>\n",
       "      <td>723.673</td>\n",
       "      <td>49</td>\n",
       "    </tr>\n",
       "    <tr>\n",
       "      <th>3</th>\n",
       "      <td>3</td>\n",
       "      <td>900597</td>\n",
       "      <td>21.47</td>\n",
       "      <td>70.628</td>\n",
       "      <td>98689</td>\n",
       "      <td>221.743</td>\n",
       "      <td>727.505</td>\n",
       "      <td>49</td>\n",
       "    </tr>\n",
       "    <tr>\n",
       "      <th>4</th>\n",
       "      <td>4</td>\n",
       "      <td>1200645</td>\n",
       "      <td>21.46</td>\n",
       "      <td>70.628</td>\n",
       "      <td>98698</td>\n",
       "      <td>221.022</td>\n",
       "      <td>725.927</td>\n",
       "      <td>49</td>\n",
       "    </tr>\n",
       "  </tbody>\n",
       "</table>\n",
       "</div>"
      ],
      "text/plain": [
       "   SampleNumber  Time(ms)  T(deg C)  T(deg F)  P(Pa)   Alt(m)  Alt(ft)  %RH\n",
       "0             0       481     21.28    70.304  98693  221.466  726.595   49\n",
       "1             1    300517     21.33    70.394  98687  221.981  728.285   49\n",
       "2             2    600554     21.58    70.844  98703  220.576  723.673   49\n",
       "3             3    900597     21.47    70.628  98689  221.743  727.505   49\n",
       "4             4   1200645     21.46    70.628  98698  221.022  725.927   49"
      ]
     },
     "execution_count": 1,
     "metadata": {},
     "output_type": "execute_result"
    }
   ],
   "source": [
    "% matplotlib inline\n",
    "\n",
    "import pandas as pd\n",
    "import matplotlib.pyplot as plt\n",
    "import numpy as np\n",
    "\n",
    "df = pd.read_csv(\"sensor9.csv\")\n",
    "cols = df.columns\n",
    "print(\"Dataframe Shape:\", df.shape)\n",
    "df.head()"
   ]
  },
  {
   "cell_type": "code",
   "execution_count": 3,
   "metadata": {},
   "outputs": [
    {
     "data": {
      "image/png": "[encoded data removed]",
      "text/plain": [
       "<Figure size 432x288 with 1 Axes>"
      ]
     },
     "metadata": {},
     "output_type": "display_data"
    }
   ],
   "source": [
    "plt.plot(np.array(df[\"Time(ms)\"]) / 3.6e+6, np.array(df[\"T(deg F)\"]))\n",
    "plt.title(\"Temperature in the Room over Time\")\n",
    "plt.xlabel(\"Time (hr)\")\n",
    "plt.ylabel(\"T(deg F)\")\n",
    "plt.show()"
   ]
  },
  {
   "cell_type": "code",
   "execution_count": null,
   "metadata": {},
   "outputs": [],
   "source": []
  }
 ],
 "metadata": {
  "kernelspec": {
   "display_name": "Python 3",
   "language": "python",
   "name": "python3"
  },
  "language_info": {
   "codemirror_mode": {
    "name": "ipython",
    "version": 3
   },
   "file_extension": ".py",
   "mimetype": "text/x-python",
   "name": "python",
   "nbconvert_exporter": "python",
   "pygments_lexer": "ipython3",
   "version": "3.6.4"
  }
 },
 "nbformat": 4,
 "nbformat_minor": 2
}
